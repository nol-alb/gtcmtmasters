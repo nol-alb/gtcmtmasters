{
 "cells": [
  {
   "cell_type": "markdown",
   "metadata": {},
   "source": [
    "# Pupil Core Headset\n"
   ]
  },
  {
   "cell_type": "markdown",
   "metadata": {},
   "source": [
    "## User Guide"
   ]
  },
  {
   "cell_type": "markdown",
   "metadata": {},
   "source": [
    "The following steps can be found on the [PupilLabs website](https://docs.pupil-labs.com/core/#_1-put-on-pupil-core): \n",
    "1. Make sure when you put on the headset there is space between your forehead and the headset frame\n",
    "2. Launch the Pupil Capture application from the launchpad\n",
    "3. Pupil Capture will give you three screens, one large screen for the world view camera and the other two for the left and right eye respectively\n",
    "4. You will have to physically adjust the eye camera on your pupil core headset to get good images\n",
    "    - The eye camera has two movements, Slider and Rotation\n",
    "    - The eye camera arm can slide in and out of the frame\n",
    "    - The second level of adjustment can be made by rotating the ball joint, twisting and hinging the joint should give you a better visualization of the eye\n",
    "    - More information on how you to handle the headset is give [here](https://docs.pupil-labs.com/core/hardware/#headset-adjustments)\n",
    "6. You need to check if the pupil is detected by the headset, even at extreme angles of the eyeballs."
   ]
  },
  {
   "cell_type": "code",
   "execution_count": null,
   "metadata": {},
   "outputs": [],
   "source": []
  }
 ],
 "metadata": {
  "kernelspec": {
   "display_name": "Python 3",
   "language": "python",
   "name": "python3"
  },
  "language_info": {
   "codemirror_mode": {
    "name": "ipython",
    "version": 3
   },
   "file_extension": ".py",
   "mimetype": "text/x-python",
   "name": "python",
   "nbconvert_exporter": "python",
   "pygments_lexer": "ipython3",
   "version": "3.6.5"
  }
 },
 "nbformat": 4,
 "nbformat_minor": 4
}
