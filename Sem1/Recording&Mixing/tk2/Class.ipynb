{
 "cells": [
  {
   "cell_type": "code",
   "execution_count": 1,
   "metadata": {},
   "outputs": [
    {
     "name": "stdout",
     "output_type": "stream",
     "text": [
      "I am a computer with sexc man\n"
     ]
    }
   ],
   "source": [
    "class computers:\n",
    "    def __init__(self,cpu,ram):\n",
    "        self.cpu = cpu\n",
    "        self.ram = ram\n",
    "    def comp(self):\n",
    "        print(\"I am a computer with\", self.cpu, self.ram)\n",
    "comp1 = computers('sexc','man')\n",
    "comp1.comp()"
   ]
  },
  {
   "cell_type": "code",
   "execution_count": 6,
   "metadata": {},
   "outputs": [
    {
     "name": "stdout",
     "output_type": "stream",
     "text": [
      "Init A\n",
      "Initi B\n"
     ]
    }
   ],
   "source": [
    "class A:\n",
    "    def __init__(self):\n",
    "        print(\"Init A\")\n",
    "class B(A):\n",
    "    def printb(self):\n",
    "        \n",
    "        print(\"Initi B\")\n",
    "    \n",
    "b= B()\n",
    "b.printb()"
   ]
  },
  {
   "cell_type": "code",
   "execution_count": 8,
   "metadata": {},
   "outputs": [
    {
     "name": "stdout",
     "output_type": "stream",
     "text": [
      "tHIS IS printing\n"
     ]
    }
   ],
   "source": [
    "class full():\n",
    "    def printer(self):\n",
    "        print('tHIS IS printing')\n",
    "class pycharmer():\n",
    "    def printo(self,ide):\n",
    "        ide.printer()\n",
    "        \n",
    "of = full()\n",
    "\n",
    "j = pycharmer()\n",
    "\n",
    "j.printo(of)"
   ]
  },
  {
   "cell_type": "code",
   "execution_count": 30,
   "metadata": {},
   "outputs": [
    {
     "name": "stdout",
     "output_type": "stream",
     "text": [
      "This is INIT A\n",
      "This is INIT B\n",
      "256\n",
      "This is a result of class method 256\n"
     ]
    }
   ],
   "source": [
    "class A:\n",
    "    j = 256 #class variable\n",
    "    def __init__(self):\n",
    "        print(\"This is INIT A\")\n",
    "    @classmethod\n",
    "    def hello(clas):\n",
    "        return clas.j\n",
    "class B(A):\n",
    "    def __init__(self):\n",
    "        super().__init__()\n",
    "        mil = 65 #instance variable\n",
    "        print(\"This is INIT B\")\n",
    "class C(B):\n",
    "    def __init__(self):\n",
    "        super().__init__() #Inherits everything from it's super class\n",
    "        print(\"This is Init C\")\n",
    "    \n",
    "a = B()\n",
    "print(a.j) \n",
    "print(\"This is a result of class method\", A.hello())\n"
   ]
  },
  {
   "cell_type": "markdown",
   "metadata": {},
   "source": [
    "#Same Example with two inheretences"
   ]
  }
 ],
 "metadata": {
  "kernelspec": {
   "display_name": "Python 3",
   "language": "python",
   "name": "python3"
  },
  "language_info": {
   "codemirror_mode": {
    "name": "ipython",
    "version": 3
   },
   "file_extension": ".py",
   "mimetype": "text/x-python",
   "name": "python",
   "nbconvert_exporter": "python",
   "pygments_lexer": "ipython3",
   "version": "3.7.4"
  }
 },
 "nbformat": 4,
 "nbformat_minor": 4
}
